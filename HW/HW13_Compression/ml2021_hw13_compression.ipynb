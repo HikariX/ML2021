{
  "nbformat": 4,
  "nbformat_minor": 0,
  "metadata": {
    "colab": {
      "name": "“hw13_Network_Compression.ipynb”的副本",
      "provenance": [],
      "collapsed_sections": [],
      "machine_shape": "hm"
    },
    "kernelspec": {
      "name": "python3",
      "display_name": "Python 3"
    },
    "accelerator": "GPU"
  },
  "cells": [
    {
      "cell_type": "markdown",
      "metadata": {
        "id": "AeGB_b7IbKs1"
      },
      "source": [
        "Homework 13 - Network Compression\n",
        "===\n",
        "\n",
        "> Author: Arvin Liu (r09922071@ntu.edu.tw), this colab is modified from ML2021-HW3\n",
        "\n",
        "If you have any questions, feel free to ask: ntu-ml-2021spring-ta@googlegroups.com"
      ]
    },
    {
      "cell_type": "markdown",
      "metadata": {
        "id": "JY4wUHY3bNx1"
      },
      "source": [
        "## **Intro**\n",
        "\n",
        "HW13 is about network compression\n",
        "\n",
        "There are many types of Network/Model Compression,  here we introduce two:\n",
        "* Knowledge Distillation\n",
        "* Design Architecture\n",
        "\n",
        "\n",
        "The process of this notebook is as follows: <br/>\n",
        "1. Introduce depthwise, pointwise and group convolution in MobileNet.\n",
        "2. Design the model of this colab\n",
        "3. Introduce Knowledge-Distillation\n",
        "4. Set up TeacherNet and it would be helpful in training\n"
      ]
    },
    {
      "cell_type": "markdown",
      "metadata": {
        "id": "w3PoggZ91dRA"
      },
      "source": [
        "## **About the Dataset**  *(same as HW3)*\n",
        "\n",
        "The dataset used here is food-11, a collection of food images in 11 classes.\n",
        "\n",
        "For the requirement in the homework, TAs slightly modified the data.\n",
        "Please DO NOT access the original fully-labeled training data or testing labels.\n",
        "\n",
        "Also, the modified dataset is for this course only, and any further distribution or commercial use is forbidden."
      ]
    },
    {
      "cell_type": "code",
      "metadata": {
        "id": "BiNaf9gu1pu2",
        "colab": {
          "base_uri": "https://localhost:8080/"
        },
        "outputId": "f722309d-11e4-4306-ba14-e77fc3dabcf0"
      },
      "source": [
        "### This block is same as HW3 ###\n",
        "# Download the dataset\n",
        "# You may choose where to download the data.\n",
        "\n",
        "# Google Drive\n",
        "!gdown --id '1awF7pZ9Dz7X1jn1_QAiKN-_v56veCEKy' --output food-11.zip\n",
        "# If you cannot successfully gdown, you can change a link. (Backup link is provided at the bottom of this colab tutorial).\n",
        "\n",
        "# Dropbox\n",
        "# !wget https://www.dropbox.com/s/m9q6273jl3djall/food-11.zip -O food-11.zip\n",
        "\n",
        "# MEGA\n",
        "# !sudo apt install megatools\n",
        "# !megadl \"https://mega.nz/#!zt1TTIhK!ZuMbg5ZjGWzWX1I6nEUbfjMZgCmAgeqJlwDkqdIryfg\"\n",
        "\n",
        "# Unzip the dataset.\n",
        "# This may take some time.\n",
        "!unzip -q food-11.zip"
      ],
      "execution_count": null,
      "outputs": [
        {
          "output_type": "stream",
          "name": "stdout",
          "text": [
            "Downloading...\n",
            "From: https://drive.google.com/uc?id=1awF7pZ9Dz7X1jn1_QAiKN-_v56veCEKy\n",
            "To: /content/food-11.zip\n",
            "963MB [00:05, 175MB/s]\n"
          ]
        }
      ]
    },
    {
      "cell_type": "markdown",
      "metadata": {
        "id": "Vg8nOEmK1saF"
      },
      "source": [
        "## **Import Packages**  *(same as HW3)*\n",
        "\n",
        "First, we need to import packages that will be used later.\n",
        "\n",
        "In this homework, we highly rely on **torchvision**, a library of PyTorch."
      ]
    },
    {
      "cell_type": "code",
      "metadata": {
        "id": "BAk_whhx1xuf"
      },
      "source": [
        "### This block is same as HW3 ###\n",
        "# Import necessary packages.\n",
        "import numpy as np\n",
        "import torch\n",
        "import torch.nn as nn\n",
        "import torch.nn.functional as F\n",
        "import torch\n",
        "import torchvision.transforms as transforms\n",
        "import torchvision.models as models\n",
        "\n",
        "from PIL import Image\n",
        "# \"ConcatDataset\" and \"Subset\" are possibly useful when doing semi-supervised learning.\n",
        "from torch.utils.data import ConcatDataset, DataLoader, Subset\n",
        "from torchvision.datasets import DatasetFolder\n",
        "\n",
        "# This is for the progress bar.\n",
        "from tqdm.auto import tqdm"
      ],
      "execution_count": null,
      "outputs": []
    },
    {
      "cell_type": "markdown",
      "metadata": {
        "id": "vPjS3Q9WRakn"
      },
      "source": [
        "## **Dataset, Data Loader, and Transforms** *(similar to HW3)*\n",
        "\n",
        "Torchvision provides lots of useful utilities for image preprocessing, data wrapping as well as data augmentation.\n",
        "\n",
        "Here, since our data are stored in folders by class labels, we can directly apply **torchvision.datasets.DatasetFolder** for wrapping data without much effort.\n",
        "\n",
        "Please refer to [PyTorch official website](https://pytorch.org/vision/stable/transforms.html) for details about different transforms.\n",
        "\n",
        "---\n",
        "**The only diffference with HW3 is that the transform functions are different.**"
      ]
    },
    {
      "cell_type": "code",
      "metadata": {
        "id": "IImuu-Po11L-"
      },
      "source": [
        "### This block is similar to HW3 ###\n",
        "# It is important to do data augmentation in training.\n",
        "# However, not every augmentation is useful.\n",
        "# Please think about what kind of augmentation is helpful for food recognition.\n",
        "\n",
        "train_tfm = transforms.Compose([\n",
        "  # Resize the image into a fixed shape (height = width = 142)\n",
        "\ttransforms.Resize((142, 142)),\n",
        "  transforms.RandomHorizontalFlip(),\n",
        "  transforms.RandomRotation(15),\n",
        "\ttransforms.RandomCrop(128),\n",
        "\ttransforms.ToTensor(),\n",
        "])\n",
        "\n",
        "# We don't need augmentations in testing and validation.\n",
        "# All we need here is to resize the PIL image and transform it into Tensor.\n",
        "test_tfm = transforms.Compose([\n",
        "    # Resize the image into a fixed shape (height = width = 142)\n",
        "    transforms.Resize((142, 142)),\n",
        "    transforms.CenterCrop(128),\n",
        "    transforms.ToTensor(),\n",
        "])\n"
      ],
      "execution_count": null,
      "outputs": []
    },
    {
      "cell_type": "code",
      "metadata": {
        "id": "rcU_xd_C12ce"
      },
      "source": [
        "### This block is similar to HW3 ###\n",
        "# Batch size for training, validation, and testing.\n",
        "# A greater batch size usually gives a more stable gradient.\n",
        "# But the GPU memory is limited, so please adjust it carefully.\n",
        "batch_size = 64\n",
        "\n",
        "# Construct datasets.\n",
        "# The argument \"loader\" tells how torchvision reads the data.\n",
        "train_set = DatasetFolder(\"food-11/training/labeled\", loader=lambda x: Image.open(x), extensions=\"jpg\", transform=train_tfm)\n",
        "valid_set = DatasetFolder(\"food-11/validation\", loader=lambda x: Image.open(x), extensions=\"jpg\", transform=test_tfm)\n",
        "unlabeled_set = DatasetFolder(\"food-11/training/unlabeled\", loader=lambda x: Image.open(x), extensions=\"jpg\", transform=train_tfm)\n",
        "test_set = DatasetFolder(\"food-11/testing\", loader=lambda x: Image.open(x), extensions=\"jpg\", transform=test_tfm)\n",
        "\n",
        "# Construct data loaders.\n",
        "train_loader = DataLoader(train_set, batch_size=batch_size, shuffle=True, num_workers=2, pin_memory=True)\n",
        "valid_loader = DataLoader(valid_set, batch_size=batch_size, shuffle=True, num_workers=2, pin_memory=True)\n",
        "test_loader = DataLoader(test_set, batch_size=batch_size, shuffle=False)"
      ],
      "execution_count": null,
      "outputs": []
    },
    {
      "cell_type": "markdown",
      "metadata": {
        "id": "zggTBkI6bPkn"
      },
      "source": [
        "# **Architecture / Model Design**\n",
        "The following are types of convolution layer design that has fewer parameters.\n",
        "\n",
        "## **Depthwise & Pointwise Convolution**\n",
        "![](https://i.imgur.com/FBgcA0s.png)\n",
        "> Blue: the connection between layers \\\n",
        "> Green: the expansion of **receptive field** \\\n",
        "> (reference: arxiv:1810.04231)\n",
        "\n",
        "(a) normal convolution layer: It is fully connected. The difference between fully connected layer and fully connected convolution layer is the operation. (multiply --> convolution)\n",
        "\n",
        "(b) Depthwise convolution layer(DW): You can consider each feature map pass through their own filter and then pass through pointwise convolution layer(PW) to combine the information of all pixels in feature maps.\n",
        "\n",
        "\n",
        "(c) Group convolution layer(GC): Group the feature maps. Each group passes their filter then concate together. If group_size = input_feature_size, then GC becomes DC (channels are independent). If group_size = 1, then GC becomes fully connected.\n",
        "\n",
        "<img src=\"https://i.imgur.com/Hqhg0Q9.png\" width=\"500px\">\n",
        "\n",
        "\n",
        "## **Implementation details**\n",
        "```python\n",
        "# Regular Convolution, # of params = in_chs * out_chs * kernel_size^2\n",
        "nn.Conv2d(in_chs, out_chs, kernel_size, stride, padding)\n",
        "\n",
        "# Group Convolution, \"groups\" controls the connections between inputs and\n",
        "# outputs. in_chs and out_chs must both be divisible by groups.\n",
        "nn.Conv2d(in_chs, out_chs, kernel_size, stride, padding, groups=groups)\n",
        "\n",
        "# Depthwise Convolution, out_chs=in_chs=groups, # of params = in_chs * kernel_size^2\n",
        "nn.Conv2d(in_chs, out_chs=in_chs, kernel_size, stride, padding, groups=in_chs)\n",
        "\n",
        "# Pointwise Convolution, a.k.a 1 by 1 convolution, # of params = in_chs * out_chs\n",
        "nn.Conv2d(in_chs, out_chs, 1)\n",
        "\n",
        "# Merge Depthwise and Pointwise Convolution (without )\n",
        "def dwpw_conv(in_chs, out_chs, kernel_size, stride, padding):\n",
        "    return nn.Sequential(\n",
        "        nn.Conv2d(in_chs, in_chs, kernels, stride, padding, groups=in_chs),\n",
        "        nn.Conv2d(in_chs, out_chs, 1),\n",
        "    )\n",
        "```\n",
        "\n",
        "## **Model**\n",
        "\n",
        "The basic model here is simply a stack of convolutional layers followed by some fully-connected layers. You can take advatage of depthwise & pointwise convolution to make your model deeper, but still follow the size constraint."
      ]
    },
    {
      "cell_type": "code",
      "metadata": {
        "id": "TRwpE9eebVXK"
      },
      "source": [
        "def dwpw_conv(in_chs, out_chs, kernel_size, stride=1, padding=0):\n",
        "    return nn.Sequential(\n",
        "        nn.Conv2d(in_chs, in_chs, kernel_size, stride, padding, groups=in_chs),\n",
        "        nn.Conv2d(in_chs, out_chs, 1),\n",
        "    )\n",
        "class StudentNet(nn.Module):\n",
        "    def __init__(self):\n",
        "      super(StudentNet, self).__init__()\n",
        "\n",
        "      # ---------- TODO ----------\n",
        "      # Modify your model architecture\n",
        "      self.cnn = nn.Sequential(\n",
        "        # nn.Conv2d(3, 32, 3), \n",
        "        dwpw_conv(3, 16, 3),\n",
        "        nn.BatchNorm2d(16),\n",
        "        nn.ReLU(),\n",
        "\n",
        "        # nn.Conv2d(32, 32, 3),  \n",
        "        dwpw_conv(16, 64, 3),\n",
        "        nn.BatchNorm2d(64),\n",
        "        nn.ReLU(),\n",
        "        nn.MaxPool2d(2, 2, 0),     \n",
        "\n",
        "        # nn.Conv2d(32, 64, 3),\n",
        "        dwpw_conv(64, 256, 3), \n",
        "        nn.BatchNorm2d(256),\n",
        "        nn.ReLU(),\n",
        "        nn.MaxPool2d(2, 2, 0),     \n",
        "\n",
        "        # nn.Conv2d(64, 100, 3), \n",
        "        dwpw_conv(256, 128, 3),\n",
        "        nn.BatchNorm2d(128),\n",
        "        nn.ReLU(),\n",
        "        nn.MaxPool2d(2, 2, 0),\n",
        "\n",
        "        dwpw_conv(128, 64, 3),\n",
        "        nn.BatchNorm2d(64),\n",
        "        nn.ReLU(),\n",
        "        nn.MaxPool2d(2, 2, 0),\n",
        "        \n",
        "        # Here we adopt Global Average Pooling for various input size.\n",
        "        nn.AdaptiveAvgPool2d((1, 1)),\n",
        "      )\n",
        "      self.fc = nn.Sequential(\n",
        "        nn.Linear(64, 11),\n",
        "      )\n",
        "      \n",
        "    def forward(self, x):\n",
        "      out = self.cnn(x)\n",
        "      out = out.view(out.size()[0], -1)\n",
        "      return self.fc(out)\n"
      ],
      "execution_count": null,
      "outputs": []
    },
    {
      "cell_type": "markdown",
      "metadata": {
        "id": "MvHiN7q1BCRs"
      },
      "source": [
        "## **Model Analysis**\n",
        "\n",
        "Use `torchsummary` to get your model architecture (screenshot or pasting text are allowed.) and numbers of \n",
        "parameters, these two information should be submit to your NTU Cool questions.\n",
        "\n",
        "Note that the number of parameters **should not greater than 100,000**, or you'll get penalty in this homework.\n"
      ]
    },
    {
      "cell_type": "code",
      "metadata": {
        "colab": {
          "base_uri": "https://localhost:8080/"
        },
        "id": "0gB2f5dO-ktA",
        "outputId": "6ab5a26a-ceb2-480a-fa3f-8b1505aa33bf"
      },
      "source": [
        "from torchsummary import summary\n",
        "\n",
        "student_net = StudentNet()\n",
        "summary(student_net, (3, 128, 128), device=\"cpu\")"
      ],
      "execution_count": null,
      "outputs": [
        {
          "output_type": "stream",
          "name": "stdout",
          "text": [
            "----------------------------------------------------------------\n",
            "        Layer (type)               Output Shape         Param #\n",
            "================================================================\n",
            "            Conv2d-1          [-1, 3, 126, 126]              30\n",
            "            Conv2d-2         [-1, 16, 126, 126]              64\n",
            "       BatchNorm2d-3         [-1, 16, 126, 126]              32\n",
            "              ReLU-4         [-1, 16, 126, 126]               0\n",
            "            Conv2d-5         [-1, 16, 124, 124]             160\n",
            "            Conv2d-6         [-1, 64, 124, 124]           1,088\n",
            "       BatchNorm2d-7         [-1, 64, 124, 124]             128\n",
            "              ReLU-8         [-1, 64, 124, 124]               0\n",
            "         MaxPool2d-9           [-1, 64, 62, 62]               0\n",
            "           Conv2d-10           [-1, 64, 60, 60]             640\n",
            "           Conv2d-11          [-1, 256, 60, 60]          16,640\n",
            "      BatchNorm2d-12          [-1, 256, 60, 60]             512\n",
            "             ReLU-13          [-1, 256, 60, 60]               0\n",
            "        MaxPool2d-14          [-1, 256, 30, 30]               0\n",
            "           Conv2d-15          [-1, 256, 28, 28]           2,560\n",
            "           Conv2d-16          [-1, 128, 28, 28]          32,896\n",
            "      BatchNorm2d-17          [-1, 128, 28, 28]             256\n",
            "             ReLU-18          [-1, 128, 28, 28]               0\n",
            "        MaxPool2d-19          [-1, 128, 14, 14]               0\n",
            "           Conv2d-20          [-1, 128, 12, 12]           1,280\n",
            "           Conv2d-21           [-1, 64, 12, 12]           8,256\n",
            "      BatchNorm2d-22           [-1, 64, 12, 12]             128\n",
            "             ReLU-23           [-1, 64, 12, 12]               0\n",
            "        MaxPool2d-24             [-1, 64, 6, 6]               0\n",
            "AdaptiveAvgPool2d-25             [-1, 64, 1, 1]               0\n",
            "           Linear-26                   [-1, 11]             715\n",
            "================================================================\n",
            "Total params: 65,385\n",
            "Trainable params: 65,385\n",
            "Non-trainable params: 0\n",
            "----------------------------------------------------------------\n",
            "Input size (MB): 0.19\n",
            "Forward/backward pass size (MB): 61.45\n",
            "Params size (MB): 0.25\n",
            "Estimated Total Size (MB): 61.89\n",
            "----------------------------------------------------------------\n"
          ]
        }
      ]
    },
    {
      "cell_type": "markdown",
      "metadata": {
        "id": "NQXY4vLmR8ae"
      },
      "source": [
        "## **Knowledge Distillation**\n",
        "\n",
        "<img src=\"https://i.imgur.com/H2aF7Rv.png=100x\" width=\"500px\">\n",
        "\n",
        "Since we have a learned big model, let it teach the other small model. In implementation, let the training target be the prediction of big model instead of the ground truth.\n",
        "\n",
        "## **Why it works?**\n",
        "* If the data is not clean, then the prediction of big model could ignore the noise of the data with wrong labeled.\n",
        "* The labels might have some relations. Number 8 is more similar to 6, 9, 0 than 1, 7, for example.\n",
        "\n",
        "\n",
        "## **How to implement?**\n",
        "* $Loss = \\alpha T^2 \\times KL(\\frac{\\text{Teacher's Logits}}{T} || \\frac{\\text{Student's Logits}}{T}) + (1-\\alpha)(\\text{Original Loss})$\n",
        "* Note that the logits here should have passed softmax."
      ]
    },
    {
      "cell_type": "code",
      "metadata": {
        "id": "6TMCyqrWTSsz"
      },
      "source": [
        "def loss_fn_kd(outputs, labels, teacher_outputs, alpha=0.5):\n",
        "    hard_loss = F.cross_entropy(outputs, labels) * (1. - alpha) \n",
        "    T = 2\n",
        "    # ---------- TODO ----------\n",
        "    # Complete soft loss in knowledge distillation\n",
        "    temp = torch.log(teacher_outputs / T) - torch.log(outputs / T)\n",
        "    KL = torch.sum(torch.mul(teacher_outputs / T, temp), axis=1)\n",
        "    soft_loss = alpha * pow(T, 2) * KL\n",
        "    return hard_loss + soft_loss"
      ],
      "execution_count": null,
      "outputs": []
    },
    {
      "cell_type": "markdown",
      "metadata": {
        "id": "97zXxEd3Thlb"
      },
      "source": [
        "## **Teacher Model Setting**\n",
        "We provide a well-trained teacher model to help you knowledge distillation to student model.\n",
        "Note that if you want to change the transform function, you should consider  if suitable for this well-trained teacher model.\n",
        "* If you cannot successfully gdown, you can change a link. (Backup link is provided at the bottom of this colab tutorial).\n"
      ]
    },
    {
      "cell_type": "code",
      "metadata": {
        "id": "nR9J169XTjki",
        "colab": {
          "base_uri": "https://localhost:8080/",
          "height": 392
        },
        "outputId": "d4029df3-fdf5-4c8a-d766-b3bae9d78bb9"
      },
      "source": [
        "# Download teacherNet\n",
        "!gdown --id '1zH1x39Y8a0XyOORG7TWzAnFf_YPY8e-m' --output teacher_net.ckpt\n",
        "# Load teacherNet\n",
        "teacher_net = torch.load('./teacher_net.ckpt')\n",
        "teacher_net.eval()"
      ],
      "execution_count": null,
      "outputs": [
        {
          "output_type": "stream",
          "name": "stdout",
          "text": [
            "Permission denied: https://drive.google.com/uc?id=1zH1x39Y8a0XyOORG7TWzAnFf_YPY8e-m\n",
            "Maybe you need to change permission over 'Anyone with the link'?\n"
          ]
        },
        {
          "output_type": "error",
          "ename": "FileNotFoundError",
          "evalue": "ignored",
          "traceback": [
            "\u001b[0;31m---------------------------------------------------------------------------\u001b[0m",
            "\u001b[0;31mFileNotFoundError\u001b[0m                         Traceback (most recent call last)",
            "\u001b[0;32m<ipython-input-3-7e6cf03f7c4a>\u001b[0m in \u001b[0;36m<module>\u001b[0;34m()\u001b[0m\n\u001b[1;32m      2\u001b[0m \u001b[0mget_ipython\u001b[0m\u001b[0;34m(\u001b[0m\u001b[0;34m)\u001b[0m\u001b[0;34m.\u001b[0m\u001b[0msystem\u001b[0m\u001b[0;34m(\u001b[0m\u001b[0;34m\"gdown --id '1zH1x39Y8a0XyOORG7TWzAnFf_YPY8e-m' --output teacher_net.ckpt\"\u001b[0m\u001b[0;34m)\u001b[0m\u001b[0;34m\u001b[0m\u001b[0;34m\u001b[0m\u001b[0m\n\u001b[1;32m      3\u001b[0m \u001b[0;31m# Load teacherNet\u001b[0m\u001b[0;34m\u001b[0m\u001b[0;34m\u001b[0m\u001b[0;34m\u001b[0m\u001b[0m\n\u001b[0;32m----> 4\u001b[0;31m \u001b[0mteacher_net\u001b[0m \u001b[0;34m=\u001b[0m \u001b[0mtorch\u001b[0m\u001b[0;34m.\u001b[0m\u001b[0mload\u001b[0m\u001b[0;34m(\u001b[0m\u001b[0;34m'./teacher_net.ckpt'\u001b[0m\u001b[0;34m)\u001b[0m\u001b[0;34m\u001b[0m\u001b[0;34m\u001b[0m\u001b[0m\n\u001b[0m\u001b[1;32m      5\u001b[0m \u001b[0mteacher_net\u001b[0m\u001b[0;34m.\u001b[0m\u001b[0meval\u001b[0m\u001b[0;34m(\u001b[0m\u001b[0;34m)\u001b[0m\u001b[0;34m\u001b[0m\u001b[0;34m\u001b[0m\u001b[0m\n",
            "\u001b[0;32m/usr/local/lib/python3.7/dist-packages/torch/serialization.py\u001b[0m in \u001b[0;36mload\u001b[0;34m(f, map_location, pickle_module, **pickle_load_args)\u001b[0m\n\u001b[1;32m    592\u001b[0m         \u001b[0mpickle_load_args\u001b[0m\u001b[0;34m[\u001b[0m\u001b[0;34m'encoding'\u001b[0m\u001b[0;34m]\u001b[0m \u001b[0;34m=\u001b[0m \u001b[0;34m'utf-8'\u001b[0m\u001b[0;34m\u001b[0m\u001b[0;34m\u001b[0m\u001b[0m\n\u001b[1;32m    593\u001b[0m \u001b[0;34m\u001b[0m\u001b[0m\n\u001b[0;32m--> 594\u001b[0;31m     \u001b[0;32mwith\u001b[0m \u001b[0m_open_file_like\u001b[0m\u001b[0;34m(\u001b[0m\u001b[0mf\u001b[0m\u001b[0;34m,\u001b[0m \u001b[0;34m'rb'\u001b[0m\u001b[0;34m)\u001b[0m \u001b[0;32mas\u001b[0m \u001b[0mopened_file\u001b[0m\u001b[0;34m:\u001b[0m\u001b[0;34m\u001b[0m\u001b[0;34m\u001b[0m\u001b[0m\n\u001b[0m\u001b[1;32m    595\u001b[0m         \u001b[0;32mif\u001b[0m \u001b[0m_is_zipfile\u001b[0m\u001b[0;34m(\u001b[0m\u001b[0mopened_file\u001b[0m\u001b[0;34m)\u001b[0m\u001b[0;34m:\u001b[0m\u001b[0;34m\u001b[0m\u001b[0;34m\u001b[0m\u001b[0m\n\u001b[1;32m    596\u001b[0m             \u001b[0;31m# The zipfile reader is going to advance the current file position.\u001b[0m\u001b[0;34m\u001b[0m\u001b[0;34m\u001b[0m\u001b[0;34m\u001b[0m\u001b[0m\n",
            "\u001b[0;32m/usr/local/lib/python3.7/dist-packages/torch/serialization.py\u001b[0m in \u001b[0;36m_open_file_like\u001b[0;34m(name_or_buffer, mode)\u001b[0m\n\u001b[1;32m    228\u001b[0m \u001b[0;32mdef\u001b[0m \u001b[0m_open_file_like\u001b[0m\u001b[0;34m(\u001b[0m\u001b[0mname_or_buffer\u001b[0m\u001b[0;34m,\u001b[0m \u001b[0mmode\u001b[0m\u001b[0;34m)\u001b[0m\u001b[0;34m:\u001b[0m\u001b[0;34m\u001b[0m\u001b[0;34m\u001b[0m\u001b[0m\n\u001b[1;32m    229\u001b[0m     \u001b[0;32mif\u001b[0m \u001b[0m_is_path\u001b[0m\u001b[0;34m(\u001b[0m\u001b[0mname_or_buffer\u001b[0m\u001b[0;34m)\u001b[0m\u001b[0;34m:\u001b[0m\u001b[0;34m\u001b[0m\u001b[0;34m\u001b[0m\u001b[0m\n\u001b[0;32m--> 230\u001b[0;31m         \u001b[0;32mreturn\u001b[0m \u001b[0m_open_file\u001b[0m\u001b[0;34m(\u001b[0m\u001b[0mname_or_buffer\u001b[0m\u001b[0;34m,\u001b[0m \u001b[0mmode\u001b[0m\u001b[0;34m)\u001b[0m\u001b[0;34m\u001b[0m\u001b[0;34m\u001b[0m\u001b[0m\n\u001b[0m\u001b[1;32m    231\u001b[0m     \u001b[0;32melse\u001b[0m\u001b[0;34m:\u001b[0m\u001b[0;34m\u001b[0m\u001b[0;34m\u001b[0m\u001b[0m\n\u001b[1;32m    232\u001b[0m         \u001b[0;32mif\u001b[0m \u001b[0;34m'w'\u001b[0m \u001b[0;32min\u001b[0m \u001b[0mmode\u001b[0m\u001b[0;34m:\u001b[0m\u001b[0;34m\u001b[0m\u001b[0;34m\u001b[0m\u001b[0m\n",
            "\u001b[0;32m/usr/local/lib/python3.7/dist-packages/torch/serialization.py\u001b[0m in \u001b[0;36m__init__\u001b[0;34m(self, name, mode)\u001b[0m\n\u001b[1;32m    209\u001b[0m \u001b[0;32mclass\u001b[0m \u001b[0m_open_file\u001b[0m\u001b[0;34m(\u001b[0m\u001b[0m_opener\u001b[0m\u001b[0;34m)\u001b[0m\u001b[0;34m:\u001b[0m\u001b[0;34m\u001b[0m\u001b[0;34m\u001b[0m\u001b[0m\n\u001b[1;32m    210\u001b[0m     \u001b[0;32mdef\u001b[0m \u001b[0m__init__\u001b[0m\u001b[0;34m(\u001b[0m\u001b[0mself\u001b[0m\u001b[0;34m,\u001b[0m \u001b[0mname\u001b[0m\u001b[0;34m,\u001b[0m \u001b[0mmode\u001b[0m\u001b[0;34m)\u001b[0m\u001b[0;34m:\u001b[0m\u001b[0;34m\u001b[0m\u001b[0;34m\u001b[0m\u001b[0m\n\u001b[0;32m--> 211\u001b[0;31m         \u001b[0msuper\u001b[0m\u001b[0;34m(\u001b[0m\u001b[0m_open_file\u001b[0m\u001b[0;34m,\u001b[0m \u001b[0mself\u001b[0m\u001b[0;34m)\u001b[0m\u001b[0;34m.\u001b[0m\u001b[0m__init__\u001b[0m\u001b[0;34m(\u001b[0m\u001b[0mopen\u001b[0m\u001b[0;34m(\u001b[0m\u001b[0mname\u001b[0m\u001b[0;34m,\u001b[0m \u001b[0mmode\u001b[0m\u001b[0;34m)\u001b[0m\u001b[0;34m)\u001b[0m\u001b[0;34m\u001b[0m\u001b[0;34m\u001b[0m\u001b[0m\n\u001b[0m\u001b[1;32m    212\u001b[0m \u001b[0;34m\u001b[0m\u001b[0m\n\u001b[1;32m    213\u001b[0m     \u001b[0;32mdef\u001b[0m \u001b[0m__exit__\u001b[0m\u001b[0;34m(\u001b[0m\u001b[0mself\u001b[0m\u001b[0;34m,\u001b[0m \u001b[0;34m*\u001b[0m\u001b[0margs\u001b[0m\u001b[0;34m)\u001b[0m\u001b[0;34m:\u001b[0m\u001b[0;34m\u001b[0m\u001b[0;34m\u001b[0m\u001b[0m\n",
            "\u001b[0;31mFileNotFoundError\u001b[0m: [Errno 2] No such file or directory: './teacher_net.ckpt'"
          ]
        }
      ]
    },
    {
      "cell_type": "markdown",
      "metadata": {
        "id": "0DMKD-bnuIRF"
      },
      "source": [
        "## **Generate Pseudo Labels in Unlabeled Data**\n",
        "\n",
        "Since we have a well-trained model, we can use this model to predict pseudo-labels and help the student network train well. Note that you \n",
        "**CANNOT** use well-trained model to pseudo-label the test data. \n",
        "\n",
        "\n",
        "---\n",
        "\n",
        "**AGAIN, DO NOT USE TEST DATA FOR PURPOSE OTHER THAN INFERENCING**\n",
        "\n",
        "* Because If you use teacher network to predict pseudo-labels of the test data, you can only use student network to overfit these pseudo-labels without train/unlabeled data. In this way, your kaggle accuracy will be as high as the teacher network, but the fact is that you just overfit the test data and your true testing accuracy is very low. \n",
        "* These contradict the purpose of these assignment (network compression); therefore, you should not misuse the test data.\n",
        "* If you have any concerns, you can email us.\n"
      ]
    },
    {
      "cell_type": "code",
      "metadata": {
        "id": "tyRc7MktuJQN"
      },
      "source": [
        "# \"cuda\" only when GPUs are available.\n",
        "device = \"cuda\" if torch.cuda.is_available() else \"cpu\"\n",
        "\n",
        "# Initialize a model, and put it on the device specified.\n",
        "student_net = student_net.to(device)\n",
        "teacher_net = teacher_net.to(device)\n",
        "\n",
        "# Whether to do pseudo label.\n",
        "do_semi = True\n",
        "\n",
        "def get_pseudo_labels(dataset, model):\n",
        "    loader = DataLoader(dataset, batch_size=batch_size*3, shuffle=False, pin_memory=True)\n",
        "    pseudo_labels = []\n",
        "    for batch in tqdm(loader):\n",
        "        # A batch consists of image data and corresponding labels.\n",
        "        img, _ = batch\n",
        "\n",
        "        # Forward the data\n",
        "        # Using torch.no_grad() accelerates the forward process.\n",
        "        with torch.no_grad():\n",
        "            logits = model(img.to(device))\n",
        "            pseudo_labels.append(logits.argmax(dim=-1).detach().cpu())\n",
        "        # Obtain the probability distributions by applying softmax on logits.\n",
        "    pseudo_labels = torch.cat(pseudo_labels)\n",
        "    # Update the labels by replacing with pseudo labels.\n",
        "    for idx, ((img, _), pseudo_label) in enumerate(zip(dataset.samples, pseudo_labels)):\n",
        "        dataset.samples[idx] = (img, pseudo_label.item())\n",
        "    return dataset\n",
        "\n",
        "if do_semi:\n",
        "    # Generate new trainloader with unlabeled set.\n",
        "    unlabeled_set = get_pseudo_labels(unlabeled_set, teacher_net)\n",
        "    concat_dataset = ConcatDataset([train_set, unlabeled_set])\n",
        "    train_loader = DataLoader(concat_dataset, batch_size=batch_size, shuffle=True, pin_memory=True, drop_last=True)\n",
        "\n",
        "\n"
      ],
      "execution_count": null,
      "outputs": []
    },
    {
      "cell_type": "markdown",
      "metadata": {
        "id": "XeprOVBhT7cJ"
      },
      "source": [
        "## **Training** *(similar to HW3)*\n",
        "\n",
        "You can finish supervised learning by simply running the provided code without any modification.\n",
        "\n",
        "The function \"get_pseudo_labels\" is used for semi-supervised learning.\n",
        "It is expected to get better performance if you use unlabeled data for semi-supervised learning.\n",
        "However, you have to implement the function on your own and need to adjust several hyperparameters manually.\n",
        "\n",
        "For more details about semi-supervised learning, please refer to [Prof. Lee's slides](https://speech.ee.ntu.edu.tw/~tlkagk/courses/ML_2016/Lecture/semi%20(v3).pdf).\n",
        "\n",
        "Again, please notice that utilizing external data (or pre-trained model) for training is **prohibited**.\n",
        "\n",
        "---\n",
        "**The only diffference with HW3 is that you should use loss in  knowledge distillation.**\n",
        "\n",
        "\n"
      ]
    },
    {
      "cell_type": "code",
      "metadata": {
        "id": "tOm3Z55wDMOK"
      },
      "source": [
        "# For the classification task, we use cross-entropy as the measurement of performance.\n",
        "criterion = nn.CrossEntropyLoss()\n",
        "\n",
        "# Initialize optimizer, you may fine-tune some hyperparameters such as learning rate on your own.\n",
        "optimizer = torch.optim.Adam(student_net.parameters(), lr=0.0003, weight_decay=1e-5)\n",
        "\n",
        "# The number of training epochs.\n",
        "n_epochs = 80\n",
        "\n",
        "for epoch in range(n_epochs):\n",
        "    # ---------- Training ----------\n",
        "    # Make sure the model is in train mode before training.\n",
        "    student_net.train()\n",
        "\n",
        "    # These are used to record information in training.\n",
        "    train_loss = []\n",
        "    train_accs = []\n",
        "\n",
        "    # Iterate the training set by batches.\n",
        "    for batch in tqdm(train_loader):\n",
        "\n",
        "        # A batch consists of image data and corresponding labels.\n",
        "        imgs, labels = batch\n",
        "\n",
        "        # Forward the data. (Make sure data and model are on the same device.)\n",
        "        logits = student_net(imgs.to(device))\n",
        "        # Teacher net will not be updated. And we use torch.no_grad\n",
        "        # to tell torch do not retain the intermediate values\n",
        "        # (which are for backpropgation) and save the memory.\n",
        "        with torch.no_grad():\n",
        "          soft_labels = teacher_net(imgs.to(device))\n",
        "        \n",
        "        # Calculate the loss in knowledge distillation method.\n",
        "        loss = loss_fn_kd(logits, labels.to(device), soft_labels)\n",
        "\n",
        "        # Gradients stored in the parameters in the previous step should be cleared out first.\n",
        "        optimizer.zero_grad()\n",
        "\n",
        "        # Compute the gradients for parameters.\n",
        "        loss.backward()\n",
        "\n",
        "        # Clip the gradient norms for stable training.\n",
        "        grad_norm = nn.utils.clip_grad_norm_(student_net.parameters(), max_norm=10)\n",
        "\n",
        "        # Update the parameters with computed gradients.\n",
        "        optimizer.step()\n",
        "\n",
        "        # Compute the accuracy for current batch.\n",
        "        acc = (logits.argmax(dim=-1) == labels.to(device)).float().mean()\n",
        "\n",
        "        # Record the loss and accuracy.\n",
        "        train_loss.append(loss.item())\n",
        "        train_accs.append(acc)\n",
        "\n",
        "    # The average loss and accuracy of the training set is the average of the recorded values.\n",
        "    train_loss = sum(train_loss) / len(train_loss)\n",
        "    train_acc = sum(train_accs) / len(train_accs)\n",
        "\n",
        "    # Print the information.\n",
        "    print(f\"[ Train | {epoch + 1:03d}/{n_epochs:03d} ] loss = {train_loss:.5f}, acc = {train_acc:.5f}\")\n",
        "\n",
        "\n",
        "    # ---------- Validation ----------\n",
        "    # Make sure the model is in eval mode so that some modules like dropout are disabled and work normally.\n",
        "    student_net.eval()\n",
        "\n",
        "    # These are used to record information in validation.\n",
        "    valid_loss = []\n",
        "    valid_accs = []\n",
        "\n",
        "    # Iterate the validation set by batches.\n",
        "    for batch in tqdm(valid_loader):\n",
        "\n",
        "        # A batch consists of image data and corresponding labels.\n",
        "        imgs, labels = batch\n",
        "\n",
        "        # We don't need gradient in validation.\n",
        "        # Using torch.no_grad() accelerates the forward process.\n",
        "        with torch.no_grad():\n",
        "          logits = student_net(imgs.to(device))\n",
        "          soft_labels = teacher_net(imgs.to(device))\n",
        "        # We can still compute the loss (but not the gradient).\n",
        "        loss = loss_fn_kd(logits, labels.to(device), soft_labels)\n",
        "\n",
        "        # Compute the accuracy for current batch.\n",
        "        acc = (logits.argmax(dim=-1) == labels.to(device)).float().detach().cpu().view(-1).numpy()\n",
        "\n",
        "        # Record the loss and accuracy.\n",
        "        valid_loss.append(loss.item())\n",
        "        valid_accs += list(acc)\n",
        "\n",
        "    # The average loss and accuracy for entire validation set is the average of the recorded values.\n",
        "    valid_loss = sum(valid_loss) / len(valid_loss)\n",
        "    valid_acc = sum(valid_accs) / len(valid_accs)\n",
        "\n",
        "    # Print the information.\n",
        "    print(f\"[ Valid | {epoch + 1:03d}/{n_epochs:03d} ] loss = {valid_loss:.5f}, acc = {valid_acc:.5f}\")"
      ],
      "execution_count": null,
      "outputs": []
    },
    {
      "cell_type": "markdown",
      "metadata": {
        "id": "nAIDw2P-l2lN"
      },
      "source": [
        "## **Testing** *(same as HW3)*\n",
        "\n",
        "For inference, we need to make sure the model is in eval mode, and the order of the dataset should not be shuffled (\"shuffle=False\" in test_loader).\n",
        "\n",
        "Last but not least, don't forget to save the predictions into a single CSV file.\n",
        "The format of CSV file should follow the rules mentioned in the slides.\n",
        "\n",
        "### **WARNING -- Keep in Mind**\n",
        "\n",
        "Cheating includes but not limited to:\n",
        "1.   using testing labels,\n",
        "2.   submitting results to previous Kaggle competitions,\n",
        "3.   sharing predictions with others,\n",
        "4.   copying codes from any creatures on Earth,\n",
        "5.   asking other people to do it for you.\n",
        "\n",
        "Any violations bring you punishments from getting a discount on the final grade to failing the course.\n",
        "\n",
        "It is your responsibility to check whether your code violates the rules.\n",
        "When citing codes from the Internet, you should know what these codes exactly do.\n",
        "You will **NOT** be tolerated if you break the rule and claim you don't know what these codes do.\n"
      ]
    },
    {
      "cell_type": "code",
      "metadata": {
        "id": "YJfC0qOD3z05"
      },
      "source": [
        "### This block is same as HW3 ###\n",
        "# Make sure the model is in eval mode.\n",
        "# Some modules like Dropout or BatchNorm affect if the model is in training mode.\n",
        "student_net.eval()\n",
        "\n",
        "# Initialize a list to store the predictions.\n",
        "predictions = []\n",
        "\n",
        "# Iterate the testing set by batches.\n",
        "for batch in tqdm(test_loader):\n",
        "    # A batch consists of image data and corresponding labels.\n",
        "    # But here the variable \"labels\" is useless since we do not have the ground-truth.\n",
        "    # If printing out the labels, you will find that it is always 0.\n",
        "    # This is because the wrapper (DatasetFolder) returns images and labels for each batch,\n",
        "    # so we have to create fake labels to make it work normally.\n",
        "    imgs, labels = batch\n",
        "\n",
        "    # We don't need gradient in testing, and we don't even have labels to compute loss.\n",
        "    # Using torch.no_grad() accelerates the forward process.\n",
        "    with torch.no_grad():\n",
        "        logits = student_net(imgs.to(device))\n",
        "\n",
        "    # Take the class with greatest logit as prediction and record it.\n",
        "    predictions.extend(logits.argmax(dim=-1).cpu().numpy().tolist())"
      ],
      "execution_count": null,
      "outputs": []
    },
    {
      "cell_type": "code",
      "metadata": {
        "id": "wSHk4ockETPT"
      },
      "source": [
        "### This block is same as HW3 ###\n",
        "# Save predictions into the file.\n",
        "with open(\"predict.csv\", \"w\") as f:\n",
        "\n",
        "    # The first row must be \"Id, Category\"\n",
        "    f.write(\"Id,Category\\n\")\n",
        "\n",
        "    # For the rest of the rows, each image id corresponds to a predicted class.\n",
        "    for i, pred in  enumerate(predictions):\n",
        "         f.write(f\"{i},{pred}\\n\")"
      ],
      "execution_count": null,
      "outputs": []
    },
    {
      "cell_type": "markdown",
      "metadata": {
        "id": "HmCWl8uU8V14"
      },
      "source": [
        "## **Statistics**\n",
        "\n",
        "|Baseline|Accuracy|Training Time|\n",
        "|-|-|-|\n",
        "|Simple Baseline |0.59856|2 Hours|\n",
        "|Medium Baseline |0.65412|2 Hours|\n",
        "|Strong Baseline |0.72819|4 Hours|\n",
        "|Boss Baseline |0.81003|Unmeasueable|\n",
        "\n",
        "## **Learning Curve**\n",
        "\n",
        "![img](https://lh5.googleusercontent.com/amMLGa7dkqvXGmsJlrVN49VfSjClk5d-n7nCi_Y3ROK4himsBSHhB7SpdWe7Zm06ctRO77VdDkD9u_aKfAh1tMW-KcyYX7vF7LPlKqOo2fVtt3SyfsLv0KTYDB0YbAk6ZhyOIKT8Zfg)"
      ]
    },
    {
      "cell_type": "markdown",
      "metadata": {
        "id": "zPTYk9w-B_yt"
      },
      "source": [
        "\n",
        "\n",
        "## **Q&A**\n",
        "\n",
        "If you have any question about this colab, please send a email to ntu-ml-2021spring-ta@googlegroups.com"
      ]
    },
    {
      "cell_type": "markdown",
      "metadata": {
        "id": "Q3w5w7nMNd3R"
      },
      "source": [
        "## **Backup Links**"
      ]
    },
    {
      "cell_type": "code",
      "metadata": {
        "id": "J337ak5VNZUT"
      },
      "source": [
        "# resnet_model \n",
        "# !gdown --id '1zH1x39Y8a0XyOORG7TWzAnFf_YPY8e-m' --output resnet_model.ckpt\n",
        "# !gdown --id '1VBIeQKH4xRHfToUxuDxtEPsqz0MHvrgd' --output resnet_model.ckpt\n",
        "# !gdown --id '1Er2azErvXWS5m1jboKN7BLxNXnuAatYw' --output resnet_model.ckpt\n",
        "# !gdown --id '1Qya0vmf3nRl11IyxxF7nudDpZI_Q4Amh' --output resnet_model.ckpt\n",
        "# !gdown --id '1fGOOb5ndljraBIkRkLp3bW9orR4YN97U' --output resnet_model.ckpt\n",
        "# !gdown --id '1apHLvZBZ3GYEMxXxToGKF7qDLn1XbOfJ' --output resnet_model.ckpt\n",
        "# !gdown --id '1vsDylNsLaAqxonop7Mw3dBAig0EO7tlF' --output resnet_model.ckpt\n",
        "# !gdown --id '1V_hXJM_V9-10i6wldRyl0SOiivPp4SNt' --output resnet_model.ckpt\n",
        "# !gdown --id '11HzaJM2M2yg6KYhLaWpWy8WmPIIvJgnk' --output resnet_model.ckpt\n",
        "\n",
        "# food-11\n",
        "# !gdown --id '1qdyNN0Ek4S5yi-pAqHes1yjj5cNkENCc' --output food-11.zip\n",
        "# !gdown --id '1c0Q1EP6yIx0O2rqVMIVInIt8wFjLxmRh' --output food-11.zip\n",
        "# !gdown --id '1hKO054nT1R8egcXY2-tgQbwX4EjowRLz' --output food-11.zip\n",
        "# !gdown --id '1_7_uC1WUvX6H51gQaYmI4q3AezdQJhud' --output food-11.zip\n",
        "# !gdown --id '12bz82Zpx0_7BDGXq4nRt7E_fMFmILoc9' --output food-11.zip\n",
        "# !gdown --id '1oiqRKrDQXVBM5y63MeEaHxFmCIzNXx1Q' --output food-11.zip\n",
        "# !gdown --id '1qaL43sl4qUMeCT1OVpk4aOFycnLL5ZJX' --output food-11.zip"
      ],
      "execution_count": null,
      "outputs": []
    }
  ]
}